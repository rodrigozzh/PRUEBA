{
 "cells": [
  {
   "cell_type": "code",
   "execution_count": 7,
   "metadata": {},
   "outputs": [],
   "source": [
    "%matplotlib inline\n",
    "import numpy as np\n",
    "import matplotlib as mpl\n",
    "import matplotlib.pyplot as plt\n",
    "import pandas as pd\n",
    "import ipywidgets as widgets\n"
   ]
  },
  {
   "cell_type": "code",
   "execution_count": 8,
   "metadata": {},
   "outputs": [],
   "source": [
    "# Se importan los datos 'covid19_confirmados.csv' como DataFrame \n",
    "conf_df = pd.DataFrame(data=pd.read_csv(\"data/covid19_confirmados.csv\"))"
   ]
  },
  {
   "cell_type": "code",
   "execution_count": 9,
   "metadata": {},
   "outputs": [],
   "source": [
    "# Se setea la columna 'Country/Region' como indice\n",
    "conf_df = conf_df.set_index(\"Country/Region\")\n",
    "\n",
    "# Se eliminan las columnas 'Lat' y 'Long'\n",
    "del conf_df['Lat']\n",
    "del conf_df['Long']"
   ]
  },
  {
   "cell_type": "code",
   "execution_count": 10,
   "metadata": {},
   "outputs": [],
   "source": [
    "# Se pasan las columnas de fechas a Timestamps\n",
    "\n",
    "# Esto probablemente se puede hacer con funciones de pandas de forma mas eficiente \n",
    "a = list(conf_df)\n",
    "a.remove(a[0])\n",
    "j = 0\n",
    "for i in a:\n",
    "    a[j] = pd.Timestamp(i)\n",
    "    j+=1\n",
    "a.insert(0,'Province/State')    \n",
    "conf_df.columns = a\n"
   ]
  },
  {
   "cell_type": "code",
   "execution_count": 11,
   "metadata": {
    "scrolled": false
   },
   "outputs": [],
   "source": [
    "# Reduccion de la columna Province/State\n",
    "del conf_df['Province/State']\n",
    "conf_df = conf_df.groupby(['Country/Region']).sum()\n",
    "#conf_df"
   ]
  },
  {
   "cell_type": "code",
   "execution_count": 12,
   "metadata": {},
   "outputs": [],
   "source": [
    "# Se importan los datos 'population_by_country_2020.csv' como DataFrame \n",
    "pop_df = pd.DataFrame(data=pd.read_csv(\"data/population_by_country_2020.csv\")) "
   ]
  },
  {
   "cell_type": "code",
   "execution_count": 13,
   "metadata": {},
   "outputs": [],
   "source": [
    "# Se setea la columna 'Country/Region' como indice\n",
    "pop_df = pop_df.set_index(\"Country (or dependency)\")\n",
    "#pop_df"
   ]
  },
  {
   "cell_type": "code",
   "execution_count": 14,
   "metadata": {},
   "outputs": [],
   "source": [
    "# Cambio de nombres de algunos paises para tener concordancia en los datos\n",
    "pop_df = pop_df.rename({\"Czech Republic (Czechia)\":\"Czechia\", \"South Korea\":\"Korea, South\", \n",
    "               \"St. Vincent & Grenadines\":\"Saint Vincent and the Grenadines\",\n",
    "               \"Sao Tome & Principe\":\"Sao Tome and Principe\",\n",
    "               \"Taiwan\":\"Taiwan*\", \"United States\":\"US\", \"Congo\":\"Congo (Brazzaville)\", \n",
    "               \"DR Congo\":\"Congo (Kinshasa)\", \"Côte d'Ivoire\":\"Cote d'Ivoire\",\n",
    "               \"Saint Kitts & Nevis\":\"Saint Kitts and Nevis\"}, axis='index')"
   ]
  },
  {
   "cell_type": "code",
   "execution_count": 15,
   "metadata": {},
   "outputs": [],
   "source": [
    "# Merge entre Dataframe de casos confirmados y Dataframe de datos de población\n",
    "fconf_df = pd.merge(conf_df, pop_df, left_index = True, right_index = True)\n",
    "#fconf_df"
   ]
  },
  {
   "cell_type": "code",
   "execution_count": 16,
   "metadata": {},
   "outputs": [],
   "source": [
    "# Se importan los datos 'covid19_recuperados.csv' como DataFrame \n",
    "rec_df = pd.DataFrame(data=pd.read_csv(\"data/covid19_recuperados.csv\"))\n",
    "\n",
    "# Se setea la columna 'Country/Region' como indice\n",
    "rec_df = rec_df.set_index(\"Country/Region\")\n",
    "\n",
    "# Se eliminan las columnas 'Lat' y 'Long'\n",
    "del rec_df['Lat']\n",
    "del rec_df['Long']\n",
    "\n",
    "# Se pasan las columnas de fechas a Timestamps\n",
    "a = list(rec_df)\n",
    "a.remove(a[0])\n",
    "j = 0\n",
    "for i in a:\n",
    "    a[j] = pd.Timestamp(i)\n",
    "    j+=1\n",
    "a.insert(0,'Province/State')    \n",
    "rec_df.columns = a\n",
    "\n",
    "# Reduccion de la columna Province/State\n",
    "del rec_df['Province/State']\n",
    "rec_df = rec_df.groupby(['Country/Region']).sum()\n",
    "\n",
    "# Merge entre Dataframe de casos recuperados y Dataframe de datos de población\n",
    "frec_df = pd.merge(rec_df, pop_df, left_index = True, right_index = True)\n",
    "#frec_df"
   ]
  },
  {
   "cell_type": "code",
   "execution_count": 17,
   "metadata": {},
   "outputs": [],
   "source": [
    "# Se importan los datos 'covid19_decesos.csv' como DataFrame \n",
    "decesos_df = pd.DataFrame(data=pd.read_csv(\"data/covid19_decesos.csv\"))\n",
    "\n",
    "# Se setea la columna 'Country/Region' como indice\n",
    "decesos_df = decesos_df.set_index(\"Country/Region\")\n",
    "\n",
    "# Se eliminan las columnas 'Lat' y 'Long'\n",
    "del decesos_df['Lat']\n",
    "del decesos_df['Long']\n",
    "\n",
    "# Se pasan las columnas de fechas a Timestamps\n",
    "a = list(decesos_df)\n",
    "a.remove(a[0])\n",
    "j = 0\n",
    "for i in a:\n",
    "    a[j] = pd.Timestamp(i)\n",
    "    j+=1\n",
    "a.insert(0,'Province/State')    \n",
    "decesos_df.columns = a\n",
    "\n",
    "# Reduccion de la columna Province/State\n",
    "del decesos_df['Province/State']\n",
    "decesos_df = decesos_df.groupby(['Country/Region']).sum()\n",
    "\n",
    "# Merge entre Dataframe de decesos y Dataframe de datos de población\n",
    "fdecesos_df = pd.merge(decesos_df, pop_df, left_index = True, right_index = True)\n",
    "#fdecesos_df"
   ]
  },
  {
   "cell_type": "code",
   "execution_count": 18,
   "metadata": {},
   "outputs": [],
   "source": [
    "# (a) Total casos confirmados por pais\n",
    "tot_conf = fconf_df.loc[:,fconf_df.columns[459]]\n",
    "#tot_conf"
   ]
  },
  {
   "cell_type": "code",
   "execution_count": 19,
   "metadata": {
    "scrolled": true
   },
   "outputs": [],
   "source": [
    "# (b) Cálculo de casos cerrados(recuperados + decesos) por pais\n",
    "\n",
    "# Total recuperados\n",
    "tot_rec = frec_df.loc[:,frec_df.columns[459]]\n",
    "\n",
    "# Total decesos\n",
    "tot_decesos = fdecesos_df.loc[:,fdecesos_df.columns[459]]\n",
    "\n",
    "# Casos cerrados\n",
    "tot_cerrados = tot_rec + tot_decesos\n",
    "#tot_cerrados"
   ]
  },
  {
   "cell_type": "code",
   "execution_count": 20,
   "metadata": {
    "scrolled": true
   },
   "outputs": [],
   "source": [
    "# (c) Total de casos activos(confirmados - cerrados) por pais\n",
    "\n",
    "casos_activos = tot_conf - tot_cerrados\n",
    "#casos_activos"
   ]
  },
  {
   "cell_type": "code",
   "execution_count": 21,
   "metadata": {},
   "outputs": [],
   "source": [
    "# Porcentaje de casos activos respecto a total de confirmados\n",
    "p_aconf = (casos_activos*100 / tot_conf).round(3)\n",
    "#p_aconf"
   ]
  },
  {
   "cell_type": "code",
   "execution_count": 22,
   "metadata": {},
   "outputs": [],
   "source": [
    "# Porcentaje de decesos con respecto al total de casos cerrados\n",
    "p_dcerr = (tot_decesos*100 / tot_cerrados).round(3)\n",
    "#p_dcerr"
   ]
  },
  {
   "cell_type": "code",
   "execution_count": 23,
   "metadata": {},
   "outputs": [],
   "source": [
    "# Porcentaje de recuperados con respecto al total de casos cerrados\n",
    "p_rcerr = (tot_rec*100 / tot_cerrados).round(3)\n",
    "#p_rcerr"
   ]
  },
  {
   "cell_type": "code",
   "execution_count": 24,
   "metadata": {},
   "outputs": [],
   "source": [
    "tasa_inc = (tot_conf*100000/fconf_df.loc[:,'Population (2020)']).round(3)\n",
    "#tasa_inc"
   ]
  },
  {
   "cell_type": "code",
   "execution_count": 25,
   "metadata": {},
   "outputs": [],
   "source": [
    "tasa_rec = (tot_rec*100000/frec_df.loc[:,'Population (2020)']).round(3)\n",
    "#tasa_rec"
   ]
  },
  {
   "cell_type": "code",
   "execution_count": 26,
   "metadata": {
    "scrolled": true
   },
   "outputs": [],
   "source": [
    "tasa_mort = (tot_decesos*100000/fdecesos_df.loc[:,'Population (2020)']).round(3)\n",
    "#tasa_mort"
   ]
  },
  {
   "cell_type": "code",
   "execution_count": 27,
   "metadata": {},
   "outputs": [],
   "source": [
    "# 5 países con mayor tasa de incidencia\n",
    "#tasa_inc.sort_values(ascending=False)[0:5].round(3)"
   ]
  },
  {
   "cell_type": "code",
   "execution_count": 28,
   "metadata": {},
   "outputs": [],
   "source": [
    "# 5 países con menor tasa de incidencia\n",
    "#tasa_inc.sort_values()[0:5].round(3)"
   ]
  },
  {
   "cell_type": "code",
   "execution_count": 29,
   "metadata": {
    "scrolled": true
   },
   "outputs": [],
   "source": [
    "# 5 países con mayor tasa de recuperación\n",
    "#tasa_rec.sort_values(ascending=False)[0:5].round(3)"
   ]
  },
  {
   "cell_type": "code",
   "execution_count": 30,
   "metadata": {},
   "outputs": [],
   "source": [
    "# 5 países con menor tasa de recuperación\n",
    "#tasa_rec.sort_values()[0:5].round(3)"
   ]
  },
  {
   "cell_type": "code",
   "execution_count": 31,
   "metadata": {},
   "outputs": [],
   "source": [
    "# 5 países con mayor tasa de mortalidad\n",
    "#tasa_mort.sort_values(ascending=False)[0:5].round(3)"
   ]
  },
  {
   "cell_type": "code",
   "execution_count": 32,
   "metadata": {},
   "outputs": [],
   "source": [
    "# 5 países con mayor tasa de mortalidad\n",
    "#tasa_mort.sort_values()[0:5].round(3)"
   ]
  },
  {
   "cell_type": "code",
   "execution_count": 33,
   "metadata": {},
   "outputs": [],
   "source": [
    "# Se ordena la serie ascendentemente\n",
    "conf_sorted = tot_conf.sort_values(ascending=False)\n",
    "\n",
    "# Se calcula e imprime el ranking de Chile\n",
    "rank1 = conf_sorted.loc['US':'Chile'].count()\n",
    "#print(\"El ranking de Chile respecto al total de casos confirmados es:\",rank1)\n",
    "\n",
    "# Tabla de comparación con países con índices cercanos a Chile\n",
    "#conf_sorted[rank1-11:rank1+10]"
   ]
  },
  {
   "cell_type": "code",
   "execution_count": 34,
   "metadata": {},
   "outputs": [],
   "source": [
    "# Se ordena la serie ascendentemente\n",
    "cerr_sorted = tot_cerrados.sort_values(ascending=False)\n",
    "\n",
    "# Se calcula e imprime el ranking de Chile\n",
    "rank2 = cerr_sorted.loc['India':'Chile'].count()\n",
    "#print(\"El ranking de Chile respecto al total de casos cerrados es:\",rank2)\n",
    "\n",
    "# Tabla de comparación con países con índices cercanos a Chile\n",
    "#cerr_sorted[rank2-11:rank2+10]"
   ]
  },
  {
   "cell_type": "code",
   "execution_count": 35,
   "metadata": {},
   "outputs": [],
   "source": [
    "# Se ordena la serie ascendentemente\n",
    "act_sorted = casos_activos.sort_values(ascending=False)\n",
    "\n",
    "# Se calcula e imprime el ranking de Chile\n",
    "rank3 = act_sorted.loc['US':'Chile'].count()\n",
    "#print(\"El ranking de Chile respecto al total de casos activos es:\",rank3)\n",
    "\n",
    "# Tabla de comparación con países con índices cercanos a Chile\n",
    "#act_sorted[rank3-11:rank3+10]"
   ]
  },
  {
   "cell_type": "code",
   "execution_count": 36,
   "metadata": {},
   "outputs": [],
   "source": [
    "# Se ordena la serie ascendentemente\n",
    "p_aconf_sorted = p_aconf.sort_values(ascending=False)\n",
    "\n",
    "# Se calcula e imprime el ranking de Chile\n",
    "rank4 = p_aconf_sorted.loc['Serbia':'Chile'].count()\n",
    "#print(\"El ranking de Chile en el porcentaje de casos activos respecto al total de confirmados es:\",rank4)\n",
    "\n",
    "# Tabla de comparación con países con índices cercanos a Chile\n",
    "#p_aconf_sorted[rank4-11:rank4+10]"
   ]
  },
  {
   "cell_type": "code",
   "execution_count": 37,
   "metadata": {},
   "outputs": [],
   "source": [
    "# Se ordena la serie ascendentemente\n",
    "p_dcerr_sorted = p_dcerr.sort_values(ascending=False)\n",
    "\n",
    "# Se calcula e imprime el ranking de Chile\n",
    "rank5 = p_dcerr_sorted.loc['Sweden':'Chile'].count()\n",
    "#print(\"El ranking de Chile en el porcentaje de decesos respecto al total de casos cerrados es:\",rank5)\n",
    "\n",
    "# Tabla de comparación con países con índices cercanos a Chile\n",
    "#p_dcerr_sorted[rank5-11:rank5+10]"
   ]
  },
  {
   "cell_type": "code",
   "execution_count": 38,
   "metadata": {},
   "outputs": [],
   "source": [
    "# Se ordena la serie ascendentemente\n",
    "p_rcerr_sorted = p_rcerr.sort_values(ascending=False)\n",
    "\n",
    "# Se calcula e imprime el ranking de Chile\n",
    "rank6 = p_rcerr_sorted.loc['Marshall Islands':'Chile'].count()\n",
    "#print(\"El ranking de Chile en el porcentaje de recuperados respecto al total de casos cerrados es:\",rank6)\n",
    "\n",
    "# Tabla de comparación con países con índices cercanos a Chile\n",
    "#p_rcerr_sorted[rank6-11:rank6+10]"
   ]
  },
  {
   "cell_type": "code",
   "execution_count": 39,
   "metadata": {},
   "outputs": [],
   "source": [
    "# Se ordena la serie ascendentemente\n",
    "tasa_inc_sorted = tasa_inc.sort_values(ascending=False)\n",
    "\n",
    "# Se calcula e imprime el ranking de Chile\n",
    "rank7 = tasa_inc_sorted.loc['Andorra':'Chile'].count()\n",
    "#print(\"El ranking de Chile en cuanto a la tasa de incidencia es:\",rank7)\n",
    "\n",
    "# Tabla de comparación con países con índices cercanos a Chile\n",
    "#tasa_inc_sorted[rank7-11:rank7+10]"
   ]
  },
  {
   "cell_type": "code",
   "execution_count": 40,
   "metadata": {},
   "outputs": [],
   "source": [
    "# Se ordena la serie ascendentemente\n",
    "tasa_rec_sorted = tasa_rec.sort_values(ascending=False)\n",
    "\n",
    "# Se calcula e imprime el ranking de Chile\n",
    "rank8 = tasa_rec_sorted.loc['Andorra':'Chile'].count()\n",
    "#print(\"El ranking de Chile en cuanto a la tasa de recuperación es:\",rank8)\n",
    "\n",
    "# Tabla de comparación con países con índices cercanos a Chile\n",
    "#tasa_rec_sorted[rank8-11:rank8+10]"
   ]
  },
  {
   "cell_type": "code",
   "execution_count": 41,
   "metadata": {},
   "outputs": [],
   "source": [
    "# Se ordena la serie ascendentemente\n",
    "tasa_mort_sorted = tasa_mort.sort_values(ascending=False)\n",
    "\n",
    "# Se calcula e imprime el ranking de Chile\n",
    "rank9 = tasa_mort_sorted.loc['Hungary':'Chile'].count()\n",
    "#print(\"El ranking de Chile en cuanto a la tasa de mortalidad es:\",rank9)\n",
    "\n",
    "# Tabla de comparación con países con índices cercanos a Chile\n",
    "#tasa_mort_sorted[rank9-11:rank9+10]"
   ]
  },
  {
   "cell_type": "code",
   "execution_count": 42,
   "metadata": {},
   "outputs": [],
   "source": [
    "#Lista de paises miembros de la OCDE\n",
    "ocde_countries = [\"Australia\", \"Austria\", \"Belgium\", \"Canada\", \"Chile\", \"Colombia\", \"Czechia\",\n",
    "                  \"Denmark\", \"Estonia\", \"Finland\", \"France\", \"Germany\", \"Greece\", \"Hungary\", \"Iceland\", \"Ireland\",\n",
    "                  \"Israel\", \"Italy\", \"Japan\", \"Korea, South\", \"Latvia\", \"Lithuania\", \"Luxembourg\", \"Mexico\", \"Netherlands\",\n",
    "                  \"New Zealand\", \"Norway\", \"Poland\", \"Portugal\", \"Slovak Republic\", \"Slovenia\", \"Spain\", \"Sweden\",\n",
    "                  \"Switzerland\", \"Turkey\", \"United Kingdom\", \"US\"]"
   ]
  },
  {
   "cell_type": "code",
   "execution_count": null,
   "metadata": {},
   "outputs": [],
   "source": []
  },
  {
   "cell_type": "code",
   "execution_count": 45,
   "metadata": {
    "scrolled": false
   },
   "outputs": [
    {
     "data": {
      "application/vnd.jupyter.widget-view+json": {
       "model_id": "c50566af76734ad7a983c013282c9293",
       "version_major": 2,
       "version_minor": 0
      },
      "text/plain": [
       "VBox(children=(HBox(children=(Dropdown(description='Pais 1:', options=('Australia', 'Austria', 'Belgium', 'Can…"
      ]
     },
     "metadata": {},
     "output_type": "display_data"
    }
   ],
   "source": [
    "# (A) Escoger 2 paises arbitrariamente \n",
    "# (B) Mostrar gráficos en tabs \n",
    "\n",
    "from IPython.display import display, clear_output\n",
    "\n",
    "country1 = widgets.Dropdown(description=\"Pais 1:\", options=ocde_countries,\n",
    "                            value=\"Australia\", disabled = False)\n",
    "country2 = widgets.Dropdown(description=\"Pais 2:\", options=ocde_countries,\n",
    "                           value = \"Australia\", disabled = False)\n",
    "\n",
    "out_tabs = widgets.Output()\n",
    "\n",
    "\n",
    "def handle_country1(change):\n",
    "    gen_plot(change.new, country2.value)\n",
    "\n",
    "def handle_country2(change):\n",
    "    gen_plot(country1.value, change.new)\n",
    "\n",
    "def data_by_country(c, data, show_as):\n",
    "    data = data.loc[c]\n",
    "    \n",
    "    if show_as == 'Casos Nuevos':\n",
    "        return pd.DataFrame([(data[i+1] - data[i]) for i in range(len(data)-1)])\n",
    "    \n",
    "    else:\n",
    "        return pd.DataFrame([i for i in data])\n",
    "\n",
    "\n",
    "def data_by_type(data_filter, data, c, show_type):\n",
    "    if show_type == 'Valores Relativos':\n",
    "        return pd.DataFrame([(i * 100000) / data.loc[c]['Population (2020)'] for i in data_filter[0]])\n",
    "        \n",
    "    else:\n",
    "        return data_filter \n",
    "\n",
    "\n",
    "\n",
    "def data_by_timefrec(data, c, time_frec):\n",
    "    if time_frec == 'Semanal':\n",
    "        return data[0:len(data):7]\n",
    "        \n",
    "    else:\n",
    "        return data\n",
    "    \n",
    "    \n",
    "\n",
    "\n",
    "def gen_plot(country1, country2):\n",
    "    with out_tabs:\n",
    "        clear_output()\n",
    "        tab_contents = ['Casos Confirmados', 'Casos Recuperados' , 'Decesos']\n",
    "        plot_conf = widgets.Output()\n",
    "        plot_rec = widgets.Output()\n",
    "        plot_dec = widgets.Output()\n",
    "        \n",
    "        tabs = widgets.Tab(children = [plot_conf, plot_rec, plot_dec])\n",
    "        for i, title in enumerate(tab_contents):\n",
    "            tabs.set_title(i, title)\n",
    "        \n",
    "        \n",
    "        ########## Gráfica Confirmados \n",
    "        with plot_conf:\n",
    "            show_as = widgets.ToggleButtons(\n",
    "                    options = ['Casos Acumulados', 'Casos Nuevos'],\n",
    "                    description = 'Tipo de Muestra',\n",
    "                    disabled = False)\n",
    "            \n",
    "            time_frec = widgets.ToggleButtons(\n",
    "                    options = ['Diario', 'Semanal'],\n",
    "                    description = 'Frecuencia de muestra',\n",
    "                    disabled = False)\n",
    "            \n",
    "            \n",
    "            type_values = widgets.ToggleButtons(\n",
    "                    options = ['Valores Absolutos', 'Valores Relativos'],\n",
    "                    description = 'Tipo de Valores',\n",
    "                    disabled = False)\n",
    "            \n",
    "            show_as.style.button_width = '200px'; show_as.style.description_width = '200px'\n",
    "            type_values.style.button_width = '200px'; type_values.style.description_width = '200px'\n",
    "            time_frec.style.button_width = '200px'; time_frec.style.description_width = '200px' \n",
    "           \n",
    "            \n",
    "            data_country1_conf = data_by_country(country1, conf_df, show_as)\n",
    "            data_country2_conf = data_by_country(country2, conf_df, show_as)\n",
    "            \n",
    "            \n",
    "            \n",
    "            def update_plot(show_as, type_values, time_frec):\n",
    "                data_country1_conf = data_by_country(country1, conf_df, show_as)\n",
    "                data_country2_conf = data_by_country(country2, conf_df, show_as)\n",
    "                \n",
    "                data_country1_conf = data_by_type(data_country1_conf, pop_df, country1, type_values)\n",
    "                data_country2_conf = data_by_type(data_country2_conf, pop_df, country2, type_values)\n",
    "                \n",
    "                data_country1_conf = data_by_timefrec(data_country1_conf, country1, time_frec)\n",
    "                data_country2_conf = data_by_timefrec(data_country2_conf, country2, time_frec)\n",
    "                \n",
    "                fig, ax = plt.subplots(figsize=(8, 5), tight_layout=True, facecolor='#EEF')\n",
    "                ax.set_xlabel('Tiempo', fontsize=12, fontname='serif', color=\"green\")\n",
    "                ax.set_ylabel('Número de casos Confirmados COVID-19')\n",
    "                # Leyenda\n",
    "                ax.set_xticks([90*i for i in range(6)])\n",
    "                ax.set_xticklabels(['20/01/20', '20/05/20', '20/09/20','20/12/20',\n",
    "                               '20/02/21', '20/04/21'])\n",
    "            \n",
    "                line1_conf = ax.plot(data_country1_conf, linewidth=1.5,alpha=0.75,label=country1) \n",
    "\n",
    "                line2_conf = ax.plot(data_country2_conf,linewidth=1.5, alpha=0.75, label=country2)\n",
    "                ax.legend(loc=1, ncol=3, bbox_to_anchor=(0.75, 1))\n",
    "            \n",
    "        \n",
    "                ax.set_ylim(0)    \n",
    "            \n",
    "            \n",
    "            widgets.interact(update_plot, show_as=show_as, type_values=type_values, time_frec=time_frec)\n",
    "            \n",
    "            \n",
    "        \n",
    "        \n",
    "        ########### Gráfica Recuperados #############\n",
    "        \n",
    "        with plot_rec: \n",
    "            show_as = widgets.ToggleButtons(\n",
    "                    options = ['Casos Acumulados', 'Casos Nuevos'],\n",
    "                    description = 'Tipo de Muestra',\n",
    "                    disabled = False)\n",
    "            \n",
    "            time_frec = widgets.ToggleButtons(\n",
    "                    options = ['Diario', 'Semanal'],\n",
    "                    description = 'Frecuencia de muestra',\n",
    "                    disabled = False)\n",
    "            \n",
    "            \n",
    "            type_values = widgets.ToggleButtons(\n",
    "                    options = ['Valores Absolutos', 'Valores Relativos'],\n",
    "                    description = 'Tipo de Valores',\n",
    "                    disabled = False)\n",
    "            \n",
    "            show_as.style.button_width = '200px'; show_as.style.description_width = '250px'\n",
    "            type_values.style.button_width = '200px'; type_values.style.description_width = '250px'\n",
    "            time_frec.style.button_width = '200px'; time_frec.style.description_width = '250px' \n",
    "            \n",
    "            data_country1_rec = data_by_country(country1, rec_df, show_as)\n",
    "            data_country2_rec = data_by_country(country2, rec_df, show_as)\n",
    "            \n",
    "            \n",
    "            \n",
    "            def update_plot_rec(show_as, type_values, time_frec):\n",
    "                data_country1_rec = data_by_country(country1, rec_df, show_as)\n",
    "                data_country2_rec = data_by_country(country2, rec_df, show_as)\n",
    "                \n",
    "               \n",
    "                data_country1_rec = data_by_type(data_country1_rec, pop_df, country1, type_values)\n",
    "                data_country2_rec = data_by_type(data_country2_rec, pop_df, country2, type_values)\n",
    "                \n",
    "                data_country1_rec = data_by_timefrec(data_country1_rec, country1, time_frec)\n",
    "                data_country2_rec = data_by_timefrec(data_country2_rec, country2, time_frec)\n",
    "                \n",
    "                fig, ax = plt.subplots(figsize=(8, 5), tight_layout=True, facecolor='#EEF')\n",
    "                ax.set_xlabel('Tiempo', fontsize=12, fontname='serif', color=\"green\")\n",
    "                ax.set_ylabel('Número de casos Recuperados COVID-19')\n",
    "                ax.set_xticks([90*i for i in range(6)])\n",
    "                ax.set_xticklabels(['20/01/20', '20/05/20', '20/09/20','20/12/20',\n",
    "                                   '20/02/21', '20/04/21'])\n",
    "                \n",
    "                line1_rec = ax.plot(data_country1_rec, \n",
    "                    linewidth=1.5, # Ancho de la linea\n",
    "                    alpha=0.75, # Opacidad\n",
    "                    label=country1) # Etiqueta para la leyenda\n",
    "\n",
    "                line2_rec = ax.plot(data_country2_rec,\n",
    "                    linewidth=1.5, \n",
    "                    alpha=0.75, \n",
    "                    label=country2)\n",
    "                ax.legend(loc=1, ncol=3, bbox_to_anchor=(0.75, 1))\n",
    "                ax.set_ylim(0)\n",
    "            \n",
    "            \n",
    "            \n",
    "            widgets.interact(update_plot_rec, show_as=show_as, type_values=type_values, time_frec=time_frec)\n",
    "        \n",
    "        \n",
    "        \n",
    "        ############## Gráfica decesos #############\n",
    "        \n",
    "        with plot_dec:\n",
    "            show_as = widgets.ToggleButtons(\n",
    "                    options = ['Casos Acumulados', 'Casos Nuevos'],\n",
    "                    description = 'Tipo de Muestra',\n",
    "                    disabled = False)\n",
    "            \n",
    "            time_frec = widgets.ToggleButtons(\n",
    "                    options = ['Diario', 'Semanal'],\n",
    "                    description = 'Frecuencia de muestra',\n",
    "                    disabled = False)\n",
    "            \n",
    "            \n",
    "            type_values = widgets.ToggleButtons(\n",
    "                    options = ['Valores Absolutos', 'Valores Relativos'],\n",
    "                    description = 'Tipo de Valores',\n",
    "                    disabled = False)\n",
    "            \n",
    "            show_as.style.button_width = '200px'; show_as.style.description_width = '200px'\n",
    "            type_values.style.button_width = '200px'; type_values.style.description_width = '200px'\n",
    "            time_frec.style.button_width = '200px'; time_frec.style.description_width = '200px' \n",
    "            \n",
    "            data_country1_dec = data_by_country(country1, decesos_df, show_as)\n",
    "            data_country2_dec = data_by_country(country2, decesos_df, show_as)\n",
    "            \n",
    "            \n",
    "            def update_plot_dec(show_as, type_values, time_frec):\n",
    "                data_country1_dec = data_by_country(country1, decesos_df, show_as)\n",
    "                data_country2_dec = data_by_country(country2, decesos_df, show_as)                \n",
    "                \n",
    "                data_country1_dec = data_by_type(data_country1_dec, pop_df, country1, type_values)\n",
    "                data_country2_dec = data_by_type(data_country2_dec, pop_df, country2, type_values)\n",
    "                \n",
    "                data_country1_dec = data_by_timefrec(data_country1_dec, country1, time_frec)\n",
    "                data_country2_dec = data_by_timefrec(data_country2_dec, country2, time_frec)\n",
    "                \n",
    "                fig, ax = plt.subplots(figsize=(8, 5), tight_layout=True, facecolor='#EEF')\n",
    "                ax.set_xlabel('Tiempo', fontsize=12, fontname='serif', color=\"green\")\n",
    "                ax.set_ylabel('Número de Decesos COVID-19')\n",
    "\n",
    "                ax.set_xticks([90*i for i in range(6)])\n",
    "                ax.set_xticklabels(['20/01/20', '20/05/20', '20/09/20','20/12/20',\n",
    "                                   '20/02/21', '20/04/21'])\n",
    "\n",
    "                line1_dec = ax.plot(data_country1_dec, \n",
    "                    linewidth=1.5, \n",
    "                    alpha=0.75,\n",
    "                    label=country1)\n",
    "\n",
    "                line2_dec = ax.plot(data_country2_dec,\n",
    "                    linewidth=1.5, \n",
    "                    alpha=0.75, \n",
    "                    label=country2)\n",
    "                ax.legend(loc=1, ncol=3, bbox_to_anchor=(0.75, 1))\n",
    "                ax.set_ylim(0)\n",
    "            \n",
    "            widgets.interact(update_plot_dec, show_as=show_as, type_values=type_values, time_frec=time_frec)\n",
    "            \n",
    "        \n",
    "        \n",
    "        display(tabs)\n",
    "    \n",
    "    \n",
    "    \n",
    "    \n",
    "country1.observe(handle_country1, names='value')\n",
    "country2.observe(handle_country2, names='value')\n",
    "\n",
    "# Estructura en pantalla\n",
    "choose_country = widgets.HBox([country1, country2], layout=widgets.Layout(margin='70px'))\n",
    "tabs_plot = widgets.HBox([out_tabs])\n",
    "widgets.VBox([choose_country, tabs_plot])\n",
    "\n",
    "\n",
    "\n",
    "\n",
    "\n",
    "\n",
    "\n",
    "\n",
    "\n",
    "\n"
   ]
  },
  {
   "cell_type": "code",
   "execution_count": null,
   "metadata": {},
   "outputs": [],
   "source": []
  },
  {
   "cell_type": "code",
   "execution_count": null,
   "metadata": {},
   "outputs": [],
   "source": []
  }
 ],
 "metadata": {
  "kernelspec": {
   "display_name": "Python 3",
   "language": "python",
   "name": "python3"
  },
  "language_info": {
   "codemirror_mode": {
    "name": "ipython",
    "version": 3
   },
   "file_extension": ".py",
   "mimetype": "text/x-python",
   "name": "python",
   "nbconvert_exporter": "python",
   "pygments_lexer": "ipython3",
   "version": "3.8.5"
  },
  "toc": {
   "base_numbering": 1,
   "nav_menu": {},
   "number_sections": true,
   "sideBar": true,
   "skip_h1_title": false,
   "title_cell": "Table of Contents",
   "title_sidebar": "Contents",
   "toc_cell": false,
   "toc_position": {},
   "toc_section_display": true,
   "toc_window_display": false
  }
 },
 "nbformat": 4,
 "nbformat_minor": 2
}
